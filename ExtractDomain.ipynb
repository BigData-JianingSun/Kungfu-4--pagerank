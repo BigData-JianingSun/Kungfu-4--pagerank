{
 "cells": [
  {
   "cell_type": "code",
   "execution_count": 1,
   "metadata": {},
   "outputs": [
    {
     "data": {
      "text/html": [
       "\n",
       "            <div>\n",
       "                <p><b>SparkSession - in-memory</b></p>\n",
       "                \n",
       "        <div>\n",
       "            <p><b>SparkContext</b></p>\n",
       "\n",
       "            <p><a href=\"http://ip-172-31-90-90.ec2.internal:4040\">Spark UI</a></p>\n",
       "\n",
       "            <dl>\n",
       "              <dt>Version</dt>\n",
       "                <dd><code>v2.4.4</code></dd>\n",
       "              <dt>Master</dt>\n",
       "                <dd><code>yarn</code></dd>\n",
       "              <dt>AppName</dt>\n",
       "                <dd><code>lab-ml</code></dd>\n",
       "            </dl>\n",
       "        </div>\n",
       "        \n",
       "            </div>\n",
       "        "
      ],
      "text/plain": [
       "<pyspark.sql.session.SparkSession at 0x7fbb24ed0410>"
      ]
     },
     "execution_count": 1,
     "metadata": {},
     "output_type": "execute_result"
    }
   ],
   "source": [
    "import findspark\n",
    "findspark.init()\n",
    "from pyspark.sql import SparkSession\n",
    "spark = SparkSession.builder.appName(\"lab-ml\").getOrCreate()\n",
    "spark"
   ]
  },
  {
   "cell_type": "markdown",
   "metadata": {},
   "source": [
    "## Read in Grpha and Edges Datasets We Created"
   ]
  },
  {
   "cell_type": "code",
   "execution_count": 3,
   "metadata": {},
   "outputs": [],
   "source": [
    "df = spark.read.parquet(\"s3://aws-logs-780494741284-us-east-1/dataset/graph_edges1\")"
   ]
  },
  {
   "cell_type": "code",
   "execution_count": 6,
   "metadata": {},
   "outputs": [],
   "source": [
    "df2 = spark.read.parquet(\"s3://aws-logs-780494741284-us-east-1/dataset/project_graph_data1\")"
   ]
  },
  {
   "cell_type": "code",
   "execution_count": 7,
   "metadata": {},
   "outputs": [
    {
     "data": {
      "text/plain": [
       "[Row(source='http//0-network.bepress.com.library.simmons.edu/explore/arts-and-humanities/religion/?facet=publication_type%3A%22Selected+Works%22&facet=institution_title%3A%22SelectedWorks%22&facet=discipline%3A%22Social+and+Behavioral+Sciences%22&facet=download_type%3A%22PDF%22&facet=publication_year%3A%222012%22&facet=subject_facet%3A%22Agua%22', target='//assets.bepress.com/20200205/img/dcn/DCsunburst.png'),\n",
       " Row(source='http//0-gate.com/category/anime-catagory/anime-currently-covering/noragami/', target='/WWW.BET4733.COM/'),\n",
       " Row(source='http//0-gate.com/category/anime-catagory/anime-currently-covering/noragami/', target='/WWW.460SUNCITY.COM/'),\n",
       " Row(source='http//0-gate.com/category/anime-catagory/anime-currently-covering/noragami/', target='/WWW.BET1294.COM/'),\n",
       " Row(source='http//0-gate.com/category/anime-catagory/anime-currently-covering/noragami/', target='/WWW.277307.COM/'),\n",
       " Row(source='http//0-gate.com/category/anime-catagory/anime-currently-covering/noragami/', target='/WWW.609953.COM/'),\n",
       " Row(source='http//0-gate.com/category/anime-catagory/anime-currently-covering/noragami/', target='/WWW.9999.AS/'),\n",
       " Row(source='http//0-gate.com/category/anime-catagory/anime-currently-covering/noragami/', target='/WWW.012TTTT.COM/'),\n",
       " Row(source='http//0-gate.com/category/anime-catagory/anime-currently-covering/noragami/', target='/WWW.59963E.COM/'),\n",
       " Row(source='http//0-gate.com/category/anime-catagory/anime-currently-covering/noragami/', target='/WWW.XPJ1672.COM/'),\n",
       " Row(source='http//0-gate.com/category/anime-catagory/anime-currently-covering/noragami/', target='/WWW.HG66007.COM/'),\n",
       " Row(source='http//0-gate.com/category/anime-catagory/anime-currently-covering/noragami/', target='/WWW.HY733.COM/'),\n",
       " Row(source='http//0-gate.com/category/anime-catagory/anime-currently-covering/noragami/', target='/WWW.YYH88.CC/'),\n",
       " Row(source='http//0-gate.com/category/anime-catagory/anime-currently-covering/noragami/', target='/WWW.MAOMITXT.COM/'),\n",
       " Row(source='http//0-gate.com/category/anime-catagory/anime-currently-covering/noragami/', target='/WWW.PJ2106.COM/'),\n",
       " Row(source='http//0-gate.com/category/anime-catagory/anime-currently-covering/noragami/', target='/WWW.9733O.COM/'),\n",
       " Row(source='http//0-gate.com/category/anime-catagory/anime-currently-covering/noragami/', target='/WWW.BB8899V2.NET/'),\n",
       " Row(source='http//0-gate.com/category/anime-catagory/anime-currently-covering/noragami/', target='/WWW.937607.COM/'),\n",
       " Row(source='http//0-gate.com/category/anime-catagory/anime-currently-covering/noragami/', target='/WWW.3N474.COM/'),\n",
       " Row(source='http//0-gate.com/category/anime-catagory/anime-currently-covering/noragami/', target='/WWW.555000AA.COM/')]"
      ]
     },
     "execution_count": 7,
     "metadata": {},
     "output_type": "execute_result"
    }
   ],
   "source": [
    "df2.stake(20)"
   ]
  },
  {
   "cell_type": "code",
   "execution_count": 8,
   "metadata": {},
   "outputs": [],
   "source": [
    "import urllib.parse\n",
    "\n",
    "def urlparse(url):\n",
    "    return urllib.parse.urljoin(url, '/')\n",
    "    \n",
    "#url = 'http://stackoverflow.com/questions/1234567/blah-blah-blah-blah'\n",
    "#print(urllib.parse.urljoin(url, '/'))"
   ]
  },
  {
   "cell_type": "code",
   "execution_count": 18,
   "metadata": {},
   "outputs": [],
   "source": [
    "df1 = df2.select(['source'])"
   ]
  },
  {
   "cell_type": "code",
   "execution_count": 19,
   "metadata": {},
   "outputs": [
    {
     "name": "stdout",
     "output_type": "stream",
     "text": [
      "+--------------------+--------------------+\n",
      "|              source|              target|\n",
      "+--------------------+--------------------+\n",
      "|http//0-network.b...|//assets.bepress....|\n",
      "|http//0-gate.com/...|   /WWW.BET4733.COM/|\n",
      "|http//0-gate.com/...|/WWW.460SUNCITY.COM/|\n",
      "|http//0-gate.com/...|   /WWW.BET1294.COM/|\n",
      "|http//0-gate.com/...|    /WWW.277307.COM/|\n",
      "+--------------------+--------------------+\n",
      "only showing top 5 rows\n",
      "\n"
     ]
    }
   ],
   "source": [
    "df2.show(5)"
   ]
  },
  {
   "cell_type": "code",
   "execution_count": 21,
   "metadata": {},
   "outputs": [],
   "source": [
    "from urllib.parse import urlparse\n",
    "\n",
    "def con_url(string):\n",
    "    idex = string.find('http') + 4\n",
    "    new_url = string[:idex] + ':' + string[idex:]\n",
    "    domain = urlparse(new_url).netloc\n",
    "    return domain\n"
   ]
  },
  {
   "cell_type": "code",
   "execution_count": 23,
   "metadata": {},
   "outputs": [
    {
     "name": "stdout",
     "output_type": "stream",
     "text": [
      "+--------------------+\n",
      "|              source|\n",
      "+--------------------+\n",
      "|0-network.bepress...|\n",
      "|          0-gate.com|\n",
      "|          0-gate.com|\n",
      "|          0-gate.com|\n",
      "|          0-gate.com|\n",
      "|          0-gate.com|\n",
      "|          0-gate.com|\n",
      "|          0-gate.com|\n",
      "|          0-gate.com|\n",
      "|          0-gate.com|\n",
      "|          0-gate.com|\n",
      "|          0-gate.com|\n",
      "|          0-gate.com|\n",
      "|          0-gate.com|\n",
      "|          0-gate.com|\n",
      "|          0-gate.com|\n",
      "|          0-gate.com|\n",
      "|          0-gate.com|\n",
      "|          0-gate.com|\n",
      "|          0-gate.com|\n",
      "+--------------------+\n",
      "only showing top 20 rows\n",
      "\n"
     ]
    }
   ],
   "source": [
    "def test(row):\n",
    "   return [con_url(value) for (_, value) in row.asDict().items()]\n",
    "\n",
    "columns = df1.columns\n",
    "new_df = df1.rdd.map(test).toDF(columns)\n",
    "new_df.show()"
   ]
  },
  {
   "cell_type": "code",
   "execution_count": 25,
   "metadata": {},
   "outputs": [
    {
     "data": {
      "text/plain": [
       "[Row(source='0.ssbet070.cn'),\n",
       " Row(source='000019.cn'),\n",
       " Row(source='0.ssbet241.cn'),\n",
       " Row(source='0-network.bepress.com.library.simmons.edu'),\n",
       " Row(source='0-gate.com'),\n",
       " Row(source='000959.cn'),\n",
       " Row(source='00.auto.sohu.com'),\n",
       " Row(source='0-0ll.com'),\n",
       " Row(source='00.qhdsfy.com'),\n",
       " Row(source='000.qqw55.com'),\n",
       " Row(source='000407.cn'),\n",
       " Row(source='0.ssbet163.cn'),\n",
       " Row(source='00038888.org'),\n",
       " Row(source='0-1.a100.nthosting.ru'),\n",
       " Row(source='000710.cn'),\n",
       " Row(source='0.ssbet138.cn'),\n",
       " Row(source='0-euro-handys.de')]"
      ]
     },
     "execution_count": 25,
     "metadata": {},
     "output_type": "execute_result"
    }
   ],
   "source": [
    "new_df.select('source').distinct().take(51)"
   ]
  },
  {
   "cell_type": "code",
   "execution_count": 26,
   "metadata": {},
   "outputs": [
    {
     "data": {
      "text/plain": [
       "17"
      ]
     },
     "execution_count": 26,
     "metadata": {},
     "output_type": "execute_result"
    }
   ],
   "source": [
    "new_df.select('source').distinct().count()"
   ]
  },
  {
   "cell_type": "code",
   "execution_count": 27,
   "metadata": {},
   "outputs": [
    {
     "data": {
      "text/plain": [
       "[Row(target='/2009927COM/'),\n",
       " Row(target='/WWW.GUO82.COM/'),\n",
       " Row(target='/WWW.345003.COM/'),\n",
       " Row(target='/WWW.2158N.COM/'),\n",
       " Row(target='/WWW.062005.COM/'),\n",
       " Row(target='/WWW.HGW6656.COM/'),\n",
       " Row(target='/WWW.CXCP164.COM/'),\n",
       " Row(target='/WWW.XPJ938.COM/'),\n",
       " Row(target='/WWW.6787773.COM/'),\n",
       " Row(target='/WWW.3333WNSR.COM/'),\n",
       " Row(target='/WWW.CP2220.COM/'),\n",
       " Row(target='/WWW.78788.COM/'),\n",
       " Row(target='/WWW.9799K.COM/'),\n",
       " Row(target='/WWW.14449X.COM/'),\n",
       " Row(target='/WWW.9903PJ.COM/'),\n",
       " Row(target='/WWW.076605.COM/'),\n",
       " Row(target='/WWW.690766.COM/'),\n",
       " Row(target='/WWW.567667.COM/'),\n",
       " Row(target='/WWW.BB3405.COM/'),\n",
       " Row(target='/WWW.SUN4888.COM/'),\n",
       " Row(target='/WWW.BET8630.COM/'),\n",
       " Row(target='/WWW.56988OO.COM/'),\n",
       " Row(target='/WWW.54666DL.COM/'),\n",
       " Row(target='/WWW.83636K.COM/'),\n",
       " Row(target='/WWW.YH7090.COM/'),\n",
       " Row(target='/WWW.HG89892.COM/'),\n",
       " Row(target='?facet=download_type%3A%22PDF%22&facet=publication_year%3A%222019%22&facet=publication_type%3A%22Series%22'),\n",
       " Row(target='http://www.ssbet163.cn/81g26/'),\n",
       " Row(target='http://www.ssbet163.cn/8t4d9/'),\n",
       " Row(target='http://www.ssbet163.cn/ct5mf/'),\n",
       " Row(target='http://www.ssbet163.cn/mtv2x/'),\n",
       " Row(target='http://www.ssbet163.cn/htwox/'),\n",
       " Row(target='http://www.ssbet163.cn/ungvm/'),\n",
       " Row(target='?facet=discipline%3A%22English+Language+and+Literature%22'),\n",
       " Row(target='http://arrow.tudublin.ie/tfschafart/203'),\n",
       " Row(target='http://digitalcollections.dordt.edu/pro_rege/vol34/iss2/14'),\n",
       " Row(target='http://static.cninfo.com.cn/finalpage/2019-10-29/1207030281.PDF'),\n",
       " Row(target='http://y.ssbet249.cn/'),\n",
       " Row(target='/WWW.QMWLF.COM/'),\n",
       " Row(target='/WWW.85155007.COM/'),\n",
       " Row(target='/WWW.DHY2626.COM/'),\n",
       " Row(target='/WWW.MG3446.COM/'),\n",
       " Row(target='/WWW.BET5571.COM/'),\n",
       " Row(target='/74SUNCOM/'),\n",
       " Row(target='/WWW.SUN470.COM/'),\n",
       " Row(target='/WWW.33MSC.CC/'),\n",
       " Row(target='?facet=download_type%3A%22PDF%22&facet=subject_facet%3A%22Student+Publication%22&facet=publication_facet%3A%22Stein%2C+The%2C+1967-1970%22'),\n",
       " Row(target='?facet=download_type%3A%22PDF%22&facet=subject_facet%3A%22Student+Publication%22&facet=publication_facet%3A%22Newsance%2C+1957-1958%22'),\n",
       " Row(target='?facet=download_type%3A%22PDF%22&facet=discipline%3A%22Interdisciplinary+Arts+and+Media%22&facet=publication_type%3A%22Selected+Works%22'),\n",
       " Row(target='?facet=discipline%3A%22Communication%22&facet=publication_year%3A%222008%22&facet=subject_facet%3A%22AGIL%22'),\n",
       " Row(target='?facet=download_type%3A%22PDF%22&facet=discipline%3A%22Interdisciplinary+Arts+and+Media%22&facet=publication_year%3A%222010%22')]"
      ]
     },
     "execution_count": 27,
     "metadata": {},
     "output_type": "execute_result"
    }
   ],
   "source": [
    "df2.select('target').distinct().take(51)"
   ]
  },
  {
   "cell_type": "code",
   "execution_count": 30,
   "metadata": {},
   "outputs": [
    {
     "data": {
      "text/plain": [
       "14573"
      ]
     },
     "execution_count": 30,
     "metadata": {},
     "output_type": "execute_result"
    }
   ],
   "source": [
    "df2.select('target').distinct().count()"
   ]
  },
  {
   "cell_type": "code",
   "execution_count": 35,
   "metadata": {},
   "outputs": [],
   "source": [
    "def target(x):\n",
    "    if x.startswith('/WWW.'):\n",
    "        return x[1:-1]\n",
    "    elif x.startswith('http:'):\n",
    "        domain = urlparse(x).netloc\n",
    "        return domain\n",
    "    else:\n",
    "        return None"
   ]
  },
  {
   "cell_type": "code",
   "execution_count": 36,
   "metadata": {},
   "outputs": [
    {
     "data": {
      "text/plain": [
       "[Row(target=None),\n",
       " Row(target='WWW.BET4733.COM'),\n",
       " Row(target='WWW.460SUNCITY.COM'),\n",
       " Row(target='WWW.BET1294.COM'),\n",
       " Row(target='WWW.277307.COM'),\n",
       " Row(target='WWW.609953.COM'),\n",
       " Row(target='WWW.9999.AS'),\n",
       " Row(target='WWW.012TTTT.COM'),\n",
       " Row(target='WWW.59963E.COM'),\n",
       " Row(target='WWW.XPJ1672.COM'),\n",
       " Row(target='WWW.HG66007.COM'),\n",
       " Row(target='WWW.HY733.COM'),\n",
       " Row(target='WWW.YYH88.CC'),\n",
       " Row(target='WWW.MAOMITXT.COM'),\n",
       " Row(target='WWW.PJ2106.COM'),\n",
       " Row(target='WWW.9733O.COM'),\n",
       " Row(target='WWW.BB8899V2.NET'),\n",
       " Row(target='WWW.937607.COM'),\n",
       " Row(target='WWW.3N474.COM'),\n",
       " Row(target='WWW.555000AA.COM')]"
      ]
     },
     "execution_count": 36,
     "metadata": {},
     "output_type": "execute_result"
    }
   ],
   "source": [
    "df_target = df2.select(['target'])\n",
    "def test2(row):\n",
    "   \n",
    "   return [target(value) for (_, value) in row.asDict().items()]\n",
    "\n",
    "columns = df_target.columns\n",
    "new_df2 = df_target.rdd.map(test2).toDF(columns)\n",
    "new_df2.take(20)"
   ]
  },
  {
   "cell_type": "code",
   "execution_count": 37,
   "metadata": {},
   "outputs": [
    {
     "data": {
      "text/plain": [
       "8040"
      ]
     },
     "execution_count": 37,
     "metadata": {},
     "output_type": "execute_result"
    }
   ],
   "source": [
    "new_df2.select('target').distinct().count()"
   ]
  },
  {
   "cell_type": "code",
   "execution_count": 33,
   "metadata": {},
   "outputs": [
    {
     "data": {
      "text/plain": [
       "[Row(target='m:c.yandex.ru'),\n",
       " Row(target='m:1.auto.itc.cn'),\n",
       " Row(target='m:2.auto.itc.cn'),\n",
       " Row(target='a:ssets.bepress.com'),\n",
       " Row(target=''),\n",
       " Row(target='m:3.auto.itc.cn')]"
      ]
     },
     "execution_count": 33,
     "metadata": {},
     "output_type": "execute_result"
    }
   ],
   "source": [
    "#new_df2.select('target').distinct().take(7)"
   ]
  },
  {
   "cell_type": "code",
   "execution_count": 45,
   "metadata": {},
   "outputs": [
    {
     "name": "stdout",
     "output_type": "stream",
     "text": [
      "+--------------------+\n",
      "|              source|\n",
      "+--------------------+\n",
      "|0-network.bepress...|\n",
      "|          0-gate.com|\n",
      "|          0-gate.com|\n",
      "|          0-gate.com|\n",
      "+--------------------+\n",
      "only showing top 4 rows\n",
      "\n"
     ]
    }
   ],
   "source": [
    "new_df.show(4)"
   ]
  },
  {
   "cell_type": "code",
   "execution_count": 46,
   "metadata": {},
   "outputs": [
    {
     "name": "stdout",
     "output_type": "stream",
     "text": [
      "+------------------+\n",
      "|            target|\n",
      "+------------------+\n",
      "|              null|\n",
      "|   WWW.BET4733.COM|\n",
      "|WWW.460SUNCITY.COM|\n",
      "|   WWW.BET1294.COM|\n",
      "+------------------+\n",
      "only showing top 4 rows\n",
      "\n"
     ]
    }
   ],
   "source": [
    "new_df2.show(4)"
   ]
  },
  {
   "cell_type": "code",
   "execution_count": 53,
   "metadata": {},
   "outputs": [
    {
     "data": {
      "text/plain": [
       "['urls']"
      ]
     },
     "execution_count": 53,
     "metadata": {},
     "output_type": "execute_result"
    }
   ],
   "source": [
    "oldColumns = new_df2.schema.names\n",
    "oldColumns"
   ]
  },
  {
   "cell_type": "code",
   "execution_count": 49,
   "metadata": {},
   "outputs": [],
   "source": [
    "new_df1 = new_df.selectExpr(\"source as urls\")\n",
    "#new_df2 = new_df2.selectExpr(\"target as urls\")\n",
    "#df_c = new_df1.unionByName(new_df2)\n",
    "#df_c.printSchema()"
   ]
  },
  {
   "cell_type": "markdown",
   "metadata": {},
   "source": [
    "## Extract Domain URLs from Original Query URLs"
   ]
  },
  {
   "cell_type": "code",
   "execution_count": 54,
   "metadata": {},
   "outputs": [],
   "source": [
    "df_c = new_df1.unionByName(new_df2)"
   ]
  },
  {
   "cell_type": "code",
   "execution_count": 55,
   "metadata": {},
   "outputs": [],
   "source": [
    "from operator import itemgetter\n",
    "\n",
    "indexer = (df_c.select(\"urls\").distinct()\n",
    "    .rdd.map(itemgetter(0)).zipWithIndex()\n",
    "    .toDF([\"urls\", \"label\"]))\n",
    "\n",
    "df_c = df_c.join(indexer, [\"urls\"])"
   ]
  },
  {
   "cell_type": "code",
   "execution_count": 56,
   "metadata": {},
   "outputs": [],
   "source": [
    "\n",
    "dic = dict(df_c.rdd.map(lambda x: (x['urls'], x['label'])).collect())\n",
    "#dic.get('0.ssbet138.cn')\n"
   ]
  },
  {
   "cell_type": "code",
   "execution_count": 63,
   "metadata": {},
   "outputs": [
    {
     "data": {
      "text/plain": [
       "[Row(urls='WWW.009913.COM', label=17),\n",
       " Row(urls='WWW.009913.COM', label=17),\n",
       " Row(urls='WWW.009913.COM', label=17),\n",
       " Row(urls='WWW.0255159.COM', label=8),\n",
       " Row(urls='WWW.0255159.COM', label=8)]"
      ]
     },
     "execution_count": 63,
     "metadata": {},
     "output_type": "execute_result"
    }
   ],
   "source": [
    "df_c.take(5)"
   ]
  },
  {
   "cell_type": "code",
   "execution_count": 74,
   "metadata": {},
   "outputs": [],
   "source": [
    "from pyspark.sql.functions import udf\n",
    "def url_node(s):\n",
    "    node = dic.get(s)\n",
    "    return node\n",
    "\n",
    "ur_udf = udf(url_node)"
   ]
  },
  {
   "cell_type": "code",
   "execution_count": 71,
   "metadata": {},
   "outputs": [
    {
     "name": "stdout",
     "output_type": "stream",
     "text": [
      "+--------------------+---+\n",
      "|              source| id|\n",
      "+--------------------+---+\n",
      "|0-network.bepress...|  0|\n",
      "|          0-gate.com|  1|\n",
      "|          0-gate.com|  2|\n",
      "|          0-gate.com|  3|\n",
      "|          0-gate.com|  4|\n",
      "|          0-gate.com|  5|\n",
      "|          0-gate.com|  6|\n",
      "|          0-gate.com|  7|\n",
      "|          0-gate.com|  8|\n",
      "|          0-gate.com|  9|\n",
      "|          0-gate.com| 10|\n",
      "|          0-gate.com| 11|\n",
      "|          0-gate.com| 12|\n",
      "|          0-gate.com| 13|\n",
      "|          0-gate.com| 14|\n",
      "|          0-gate.com| 15|\n",
      "|          0-gate.com| 16|\n",
      "|          0-gate.com| 17|\n",
      "|          0-gate.com| 18|\n",
      "|          0-gate.com| 19|\n",
      "+--------------------+---+\n",
      "only showing top 20 rows\n",
      "\n",
      "+------------------+---+\n",
      "|            target| id|\n",
      "+------------------+---+\n",
      "|              null|  0|\n",
      "|   WWW.BET4733.COM|  1|\n",
      "|WWW.460SUNCITY.COM|  2|\n",
      "|   WWW.BET1294.COM|  3|\n",
      "|    WWW.277307.COM|  4|\n",
      "|    WWW.609953.COM|  5|\n",
      "|       WWW.9999.AS|  6|\n",
      "|   WWW.012TTTT.COM|  7|\n",
      "|    WWW.59963E.COM|  8|\n",
      "|   WWW.XPJ1672.COM|  9|\n",
      "|   WWW.HG66007.COM| 10|\n",
      "|     WWW.HY733.COM| 11|\n",
      "|      WWW.YYH88.CC| 12|\n",
      "|  WWW.MAOMITXT.COM| 13|\n",
      "|    WWW.PJ2106.COM| 14|\n",
      "|     WWW.9733O.COM| 15|\n",
      "|  WWW.BB8899V2.NET| 16|\n",
      "|    WWW.937607.COM| 17|\n",
      "|     WWW.3N474.COM| 18|\n",
      "|  WWW.555000AA.COM| 19|\n",
      "+------------------+---+\n",
      "only showing top 20 rows\n",
      "\n",
      "+-----------------+-------------+\n",
      "|           target|       source|\n",
      "+-----------------+-------------+\n",
      "|   WWW.998141.COM|   0-gate.com|\n",
      "|    WWW.861AM.COM|   0-gate.com|\n",
      "|   WWW.YH6273.COM|   0-gate.com|\n",
      "|  WWW.7766524.COM|   0-gate.com|\n",
      "|   WWW.YH4635.COM|   0-gate.com|\n",
      "|   WWW.BM3118.COM|   0-gate.com|\n",
      "|             null|   0-gate.com|\n",
      "|    i.ssbet160.cn|   0-gate.com|\n",
      "|  WWW.8777567.COM|   0-gate.com|\n",
      "|             null|   0-gate.com|\n",
      "|             null|   0-gate.com|\n",
      "|   WWW.800346.COM|   0-gate.com|\n",
      "|   WWW.158028.COM|   0-gate.com|\n",
      "|  WWW.1499138.COM|   0-gate.com|\n",
      "|             null|0.ssbet070.cn|\n",
      "|    WWW.2355E.COM|0.ssbet138.cn|\n",
      "|nlmkj.ssbet163.cn|0.ssbet163.cn|\n",
      "|    0.ssbet163.cn|0.ssbet163.cn|\n",
      "|   WWW.HG1074.COM|0.ssbet163.cn|\n",
      "|   WWW.1148RR.COM|0.ssbet163.cn|\n",
      "+-----------------+-------------+\n",
      "only showing top 20 rows\n",
      "\n"
     ]
    }
   ],
   "source": [
    "new_df1 = new_df1.selectExpr(\"urls as source\")\n",
    "new_df2 = new_df2.selectExpr(\"urls as target\")\n",
    "from pyspark.sql.functions import monotonically_increasing_id\n",
    "df11 = new_df1.withColumn(\"id\", monotonically_increasing_id())\n",
    "\n",
    "df21 = new_df2.withColumn(\"id\", monotonically_increasing_id())\n",
    "\n",
    "df11.show()\n",
    "\n",
    "df21.show()\n",
    "\n",
    "df_edge_domain = df21.join(df11, \"id\", \"outer\").drop(\"id\")\n",
    "\n",
    "df_edge_domain.show()"
   ]
  },
  {
   "cell_type": "code",
   "execution_count": 76,
   "metadata": {},
   "outputs": [],
   "source": [
    "df_graph = df_edge_domain"
   ]
  },
  {
   "cell_type": "markdown",
   "metadata": {},
   "source": [
    "## Build Graph and Edges for Domain URLs"
   ]
  },
  {
   "cell_type": "code",
   "execution_count": 77,
   "metadata": {},
   "outputs": [],
   "source": [
    "df_graph_new = df_graph.withColumn(\"source\", ur_udf('source'))"
   ]
  },
  {
   "cell_type": "code",
   "execution_count": 78,
   "metadata": {},
   "outputs": [],
   "source": [
    "df_graph_new = df_graph_new.withColumn(\"target\", ur_udf('target'))"
   ]
  },
  {
   "cell_type": "code",
   "execution_count": 79,
   "metadata": {},
   "outputs": [
    {
     "data": {
      "text/plain": [
       "[Row(target='5644', source='2213'),\n",
       " Row(target='4463', source='2213'),\n",
       " Row(target='7729', source='2213'),\n",
       " Row(target='3968', source='2213'),\n",
       " Row(target='5756', source='2213')]"
      ]
     },
     "execution_count": 79,
     "metadata": {},
     "output_type": "execute_result"
    }
   ],
   "source": [
    "df_graph_new.take(5)"
   ]
  },
  {
   "cell_type": "code",
   "execution_count": 80,
   "metadata": {},
   "outputs": [
    {
     "data": {
      "text/plain": [
       "31566"
      ]
     },
     "execution_count": 80,
     "metadata": {},
     "output_type": "execute_result"
    }
   ],
   "source": [
    "df_graph_new.count()"
   ]
  },
  {
   "cell_type": "code",
   "execution_count": 81,
   "metadata": {},
   "outputs": [
    {
     "data": {
      "text/plain": [
       "23381"
      ]
     },
     "execution_count": 81,
     "metadata": {},
     "output_type": "execute_result"
    }
   ],
   "source": [
    "df_graph_dropnull = df_graph_new.filter(df_graph_new.target. isNotNull())\n",
    "df_graph_dropnull.count()"
   ]
  },
  {
   "cell_type": "code",
   "execution_count": 82,
   "metadata": {},
   "outputs": [
    {
     "data": {
      "text/plain": [
       "54947"
      ]
     },
     "execution_count": 82,
     "metadata": {},
     "output_type": "execute_result"
    }
   ],
   "source": [
    "df_c.count()"
   ]
  },
  {
   "cell_type": "markdown",
   "metadata": {},
   "source": [
    "## Write Graph and Edges for Domain URLs to S3"
   ]
  },
  {
   "cell_type": "code",
   "execution_count": 83,
   "metadata": {},
   "outputs": [],
   "source": [
    "df_c.write.parquet(\"s3://aws-logs-780494741284-us-east-1/dataset/graph_node_domain\",mode=\"overwrite\")\n"
   ]
  },
  {
   "cell_type": "code",
   "execution_count": 84,
   "metadata": {},
   "outputs": [],
   "source": [
    "df_graph_dropnull.write.parquet(\"s3://aws-logs-780494741284-us-east-1/dataset/graph_edges_domain\",mode=\"overwrite\")"
   ]
  }
 ],
 "metadata": {
  "kernelspec": {
   "display_name": "Python 3",
   "language": "python",
   "name": "python3"
  },
  "language_info": {
   "codemirror_mode": {
    "name": "ipython",
    "version": 3
   },
   "file_extension": ".py",
   "mimetype": "text/x-python",
   "name": "python",
   "nbconvert_exporter": "python",
   "pygments_lexer": "ipython3",
   "version": "3.7.4"
  }
 },
 "nbformat": 4,
 "nbformat_minor": 4
}
