{
 "cells": [
  {
   "cell_type": "code",
   "execution_count": 1,
   "metadata": {},
   "outputs": [
    {
     "data": {
      "text/html": [
       "\n",
       "            <div>\n",
       "                <p><b>SparkSession - in-memory</b></p>\n",
       "                \n",
       "        <div>\n",
       "            <p><b>SparkContext</b></p>\n",
       "\n",
       "            <p><a href=\"http://ip-172-31-83-246.ec2.internal:4040\">Spark UI</a></p>\n",
       "\n",
       "            <dl>\n",
       "              <dt>Version</dt>\n",
       "                <dd><code>v2.4.4</code></dd>\n",
       "              <dt>Master</dt>\n",
       "                <dd><code>yarn</code></dd>\n",
       "              <dt>AppName</dt>\n",
       "                <dd><code>lab-ml</code></dd>\n",
       "            </dl>\n",
       "        </div>\n",
       "        \n",
       "            </div>\n",
       "        "
      ],
      "text/plain": [
       "<pyspark.sql.session.SparkSession at 0x7f3b6085e2d0>"
      ]
     },
     "execution_count": 1,
     "metadata": {},
     "output_type": "execute_result"
    }
   ],
   "source": [
    "import findspark\n",
    "findspark.init()\n",
    "from pyspark.sql import SparkSession\n",
    "spark = SparkSession.builder.appName(\"lab-ml\").getOrCreate()\n",
    "spark"
   ]
  },
  {
   "cell_type": "code",
   "execution_count": 10,
   "metadata": {},
   "outputs": [],
   "source": [
    "spark.stop()"
   ]
  },
  {
   "cell_type": "code",
   "execution_count": 11,
   "metadata": {},
   "outputs": [],
   "source": [
    "from pyspark import SparkContext\n",
    "from pyspark import SparkConf\n",
    "conf = SparkConf().setAppName(\"read text file in pyspark\")\n",
    "sc = SparkContext(conf=conf)\n"
   ]
  },
  {
   "cell_type": "code",
   "execution_count": 12,
   "metadata": {},
   "outputs": [
    {
     "data": {
      "text/html": [
       "\n",
       "        <div>\n",
       "            <p><b>SparkContext</b></p>\n",
       "\n",
       "            <p><a href=\"http://ip-172-31-83-246.ec2.internal:4040\">Spark UI</a></p>\n",
       "\n",
       "            <dl>\n",
       "              <dt>Version</dt>\n",
       "                <dd><code>v2.4.4</code></dd>\n",
       "              <dt>Master</dt>\n",
       "                <dd><code>yarn</code></dd>\n",
       "              <dt>AppName</dt>\n",
       "                <dd><code>read text file in pyspark</code></dd>\n",
       "            </dl>\n",
       "        </div>\n",
       "        "
      ],
      "text/plain": [
       "<SparkContext master=yarn appName=read text file in pyspark>"
      ]
     },
     "execution_count": 12,
     "metadata": {},
     "output_type": "execute_result"
    }
   ],
   "source": [
    "sc"
   ]
  },
  {
   "cell_type": "markdown",
   "metadata": {},
   "source": [
    "# Data Extract with a tried Webpage File"
   ]
  },
  {
   "cell_type": "code",
   "execution_count": 13,
   "metadata": {},
   "outputs": [],
   "source": [
    "df2 = sc.textFile('s3://commoncrawl/crawl-data/CC-MAIN-2020-10/segments/1581875143455.25/wat/CC-MAIN-20200217235417-20200218025417-00559.warc.wat.gz')"
   ]
  },
  {
   "cell_type": "markdown",
   "metadata": {},
   "source": [
    "## Extracl Target URL from JSON File"
   ]
  },
  {
   "cell_type": "code",
   "execution_count": 14,
   "metadata": {},
   "outputs": [
    {
     "data": {
      "text/plain": [
       "'WARC-Target-URI: http://0.ssbet138.cn/WWW.XPJ80886.COM/'"
      ]
     },
     "execution_count": 14,
     "metadata": {},
     "output_type": "execute_result"
    }
   ],
   "source": [
    "df2.take(31)[30]"
   ]
  },
  {
   "cell_type": "code",
   "execution_count": 15,
   "metadata": {},
   "outputs": [],
   "source": [
    "from pyspark.sql.types import StructType\n",
    "import pyspark\n",
    "from pyspark.sql.types import StructField\n",
    "\n",
    "from pyspark.sql.types import StringType\n",
    "from pyspark.sql.types import IntegerType\n",
    "from pyspark.sql import SQLContext\n",
    "import json\n",
    "sqlContext = SQLContext(sc)"
   ]
  },
  {
   "cell_type": "code",
   "execution_count": 16,
   "metadata": {},
   "outputs": [
    {
     "data": {
      "text/plain": [
       "DataFrame[source: string, target: string]"
      ]
     },
     "execution_count": 16,
     "metadata": {},
     "output_type": "execute_result"
    }
   ],
   "source": [
    "\n",
    "schema = StructType([StructField(\"source\", StringType(), True), StructField(\"target\", StringType(), True)])\n",
    "res = sqlContext.createDataFrame([], schema)\n",
    "res"
   ]
  },
  {
   "cell_type": "markdown",
   "metadata": {},
   "source": [
    "## Determine Extract Files Paths"
   ]
  },
  {
   "cell_type": "code",
   "execution_count": 18,
   "metadata": {},
   "outputs": [],
   "source": [
    "\n",
    "paths = []\n",
    "for i in range(60):\n",
    "    if i < 10:\n",
    "        path = path = 's3://commoncrawl/crawl-data/CC-MAIN-2020-10/segments/1581875143455.25/wat/CC-MAIN-20200217235417-20200218025417-0050' + str(i) +'.warc.wat.gz'\n",
    "    else:\n",
    "        path = 's3://commoncrawl/crawl-data/CC-MAIN-2020-10/segments/1581875143455.25/wat/CC-MAIN-20200217235417-20200218025417-005' + str(i) +'.warc.wat.gz'\n",
    "    paths.append(path)"
   ]
  },
  {
   "cell_type": "code",
   "execution_count": 19,
   "metadata": {},
   "outputs": [],
   "source": [
    "df_t = sc.textFile('s3://commoncrawl/crawl-data/CC-MAIN-2020-10/segments/1581875143455.25/wat/CC-MAIN-20200217235417-20200218025417-00508.warc.wat.gz')"
   ]
  },
  {
   "cell_type": "code",
   "execution_count": 25,
   "metadata": {},
   "outputs": [
    {
     "data": {
      "text/plain": [
       "'http//0-network.bepress.com.library.simmons.edu/explore/social-and-behavioral-sciences/political-science/?facet=discipline%3A%22Law%22&facet=download_type%3A%22PDF%22&facet=institution_title%3A%22Andrews+University%22&facet=subject_facet%3A%22United+States%22'"
      ]
     },
     "execution_count": 25,
     "metadata": {},
     "output_type": "execute_result"
    }
   ],
   "source": [
    "target_url_str = df_t.take(31)[30]\n",
    "target_url = target_url_str.split(':')[1:]\n",
    "target = ''\n",
    "for x in target_url:\n",
    "    target += x\n",
    "    target = target.strip()\n",
    "target"
   ]
  },
  {
   "cell_type": "markdown",
   "metadata": {},
   "source": [
    "## Extract Source URLs"
   ]
  },
  {
   "cell_type": "code",
   "execution_count": 24,
   "metadata": {},
   "outputs": [
    {
     "data": {
      "text/plain": [
       "['//assets.bepress.com/20200205/img/dcn/DCsunburst.png',\n",
       " '/#/social-and-behavioral-sciences/',\n",
       " '/',\n",
       " '/social-and-behavioral-sciences/',\n",
       " '/social-and-behavioral-sciences/political-science/',\n",
       " '/explore/social-and-behavioral-sciences/political-science/',\n",
       " '?facet=download_type%3A%22PDF%22&facet=institution_title%3A%22Andrews+University%22&facet=subject_facet%3A%22United+States%22',\n",
       " '?facet=discipline%3A%22Law%22&facet=institution_title%3A%22Andrews+University%22&facet=subject_facet%3A%22United+States%22',\n",
       " '?facet=discipline%3A%22Law%22&facet=download_type%3A%22PDF%22&facet=subject_facet%3A%22United+States%22',\n",
       " '?facet=discipline%3A%22Law%22&facet=download_type%3A%22PDF%22&facet=institution_title%3A%22Andrews+University%22',\n",
       " 'http://digitalcommons.andrews.edu/honors/140',\n",
       " 'http://digitalcommons.andrews.edu/honors/140',\n",
       " 'http://0-www.bepress.com.library.simmons.edu/privacy.html',\n",
       " '/about/social-and-behavioral-sciences/political-science/',\n",
       " '/',\n",
       " '/architecture',\n",
       " '/arts-and-humanities',\n",
       " '/business',\n",
       " '/education',\n",
       " '/engineering',\n",
       " '/law',\n",
       " '/life-sciences',\n",
       " '/medicine-and-health-sciences',\n",
       " '/physical-sciences-and-mathematics',\n",
       " '/social-and-behavioral-sciences',\n",
       " '/explore/social-and-behavioral-sciences/']"
      ]
     },
     "execution_count": 24,
     "metadata": {},
     "output_type": "execute_result"
    }
   ],
   "source": [
    "links_json = df_t.take(49)[48]\n",
    "json_obj = json.loads(links_json)\n",
    "links_container = json_obj['Envelope']['Payload-Metadata']['HTTP-Response-Metadata']['HTML-Metadata']['Links']\n",
    "links_obj = [x['url'] for x in links_container]\n",
    "links_obj   "
   ]
  },
  {
   "cell_type": "markdown",
   "metadata": {},
   "source": [
    "## Extraction Part 1"
   ]
  },
  {
   "cell_type": "code",
   "execution_count": 28,
   "metadata": {},
   "outputs": [
    {
     "name": "stdout",
     "output_type": "stream",
     "text": [
      "http//00.auto.sohu.com/d/filter/530100_0_7_0_5_2_5_0_0.html\n",
      "http//0-network.bepress.com.library.simmons.edu/explore/arts-and-humanities/religion/?facet=discipline%3A%22Music%22&facet=publication_facet%3A%22Yale+Journal+of+Music+%26+Religion%22\n",
      "http//0-network.bepress.com.library.simmons.edu/explore/arts-and-humanities/religion/?facet=institution_title%3A%22Selected+Works%22&facet=discipline%3A%22Esthetics%22\n",
      "http//0-network.bepress.com.library.simmons.edu/explore/arts-and-humanities/religion/?facet=publication_type%3A%22Selected+Works%22&facet=institution_title%3A%22SelectedWorks%22&facet=discipline%3A%22Social+and+Behavioral+Sciences%22&facet=download_type%3A%22PDF%22&facet=publication_year%3A%222012%22&facet=subject_facet%3A%22Agua%22\n",
      "http//0-network.bepress.com.library.simmons.edu/explore/arts-and-humanities/?facet=institution_title%3A%22Marshall+University%22&facet=publication_year%3A%221974%22\n",
      "http//000.qqw55.com/fashion/popinfo/2020/0204/pic53794401327139.shtml\n",
      "http//0-network.bepress.com.library.simmons.edu/explore/arts-and-humanities/art-and-design/?facet=download_type%3A%22PDF%22&facet=discipline%3A%22Interdisciplinary+Arts+and+Media%22\n",
      "http//0-network.bepress.com.library.simmons.edu/explore/social-and-behavioral-sciences/political-science/?facet=publication_type%3A%22Theses%2FDissertations%22&facet=discipline%3A%22Communication%22&facet=subject_facet%3A%22Immigration%22&facet=publication_year%3A%222017%22\n",
      "http//0-network.bepress.com.library.simmons.edu/explore/social-and-behavioral-sciences/political-science/?facet=discipline%3A%22Law%22&facet=download_type%3A%22PDF%22&facet=institution_title%3A%22Andrews+University%22&facet=subject_facet%3A%22United+States%22\n",
      "http//0-network.bepress.com.library.simmons.edu/explore/life-sciences/?facet=publication_year%3A%222014%22&facet=institution_title%3A%22Selected+Works%22&facet=publication_facet%3A%22Valerie+Wherley%22\n",
      "http//000959.cn/report/detail.php?id=1128108\n",
      "http//000710.cn/media_news/detail.php?id=7167628\n",
      "http//0-network.bepress.com.library.simmons.edu/explore/social-and-behavioral-sciences/economics/international-economics/?facet=discipline%3A%22International+Trade+Law%22&facet=publication_year%3A%222017%22&facet=institution_title%3A%22SIT+Graduate+Institute%2FSIT+Study+Abroad%22\n",
      "http//00.auto.sohu.com/d/details?cityCode=371000&planId=515&trimId=142296\n",
      "http//0.ssbet163.cn/678191COM/\n",
      "under current15error\n",
      "http//0-network.bepress.com.library.simmons.edu/explore/arts-and-humanities/modern-languages/?facet=institution_title%3A%22City+University+of+New+York+%28CUNY%29%22&facet=discipline%3A%22Spanish+and+Portuguese+Language+and+Literature%22&facet=publication_year%3A%222015%22\n",
      "http//0-network.bepress.com.library.simmons.edu/explore/life-sciences/biochemistry-biophysics-and-structural-biology/?facet=discipline%3A%22Molecular+Biology%22&facet=publication_type%3A%22Series%22&facet=publication_facet%3A%22Chemical+and+Biological+Engineering+Publications%22&facet=subject_facet%3A%22Computational+predictions%22\n",
      "http//000407.cn/report/detail.php?id=265033\n",
      "http//0.ssbet138.cn/WWW.Y4331.COM/\n",
      "http//0-network.bepress.com.library.simmons.edu/explore/arts-and-humanities/modern-languages/?facet=institution_title%3A%22City+University+of+New+York+%28CUNY%29%22&facet=discipline%3A%22Spanish+and+Portuguese+Language+and+Literature%22&facet=subject_facet%3A%22Memorializaci%C3%B3n+ling%C3%BC%C3%ADstica%22\n",
      "under current21error\n",
      "http//0-euro-handys.de/samsung.html\n",
      "http//00.auto.sohu.com/d/filter/110000_0_0_0_4_5_2_0_0.html\n",
      "http//0-1.a100.nthosting.ru/law/default.asp?doc=/NPB/163-97\n",
      "http//0-network.bepress.com.library.simmons.edu/explore/arts-and-humanities/?facet=publication_facet%3A%22Honors+Theses%22&facet=subject_facet%3A%22Fiction%22\n",
      "http//0-1.a100.nthosting.ru/law/default.asp?doc=/NPB/76-98\n",
      "http//0-network.bepress.com.library.simmons.edu/explore/arts-and-humanities/creative-writing/?facet=publication_year%3A%222017%22&facet=publication_facet%3A%22Theses%22&facet=subject_facet%3A%22Identity%22\n",
      "http//00.auto.sohu.com/d/details?cityCode=510100&planId=1450&trimId=146917\n",
      "under current29error\n",
      "http//0-network.bepress.com.library.simmons.edu/explore/arts-and-humanities/art-and-design/?facet=download_type%3A%22PDF%22&facet=discipline%3A%22History%22&facet=institution_title%3A%22Ursinus+College%22\n",
      "under current31error\n",
      "http//000019.cn/report/detail.php?id=50911\n",
      "http//00038888.org/www_009558_com/www_522666_com_yangjunchengzaidushouyao_yushufayiyangzhongguoyequdeliaoji_173.html\n",
      "under current34error\n",
      "http//0-network.bepress.com.library.simmons.edu/explore/social-and-behavioral-sciences/political-science/?facet=discipline%3A%22Communication%22&facet=publication_year%3A%222008%22\n",
      "http//0-network.bepress.com.library.simmons.edu/explore/social-and-behavioral-sciences/communication/mass-communication/?facet=institution_title%3A%22Selected+Works%22&facet=discipline%3A%22Education%22&facet=subject_facet%3A%22Professional+Articles%22\n",
      "http//00.auto.sohu.com/d/filter/450200_0_0_0_5_1_4_0_0.html\n",
      "http//0-network.bepress.com.library.simmons.edu/explore/social-and-behavioral-sciences/urban-studies-and-planning/?facet=institution_title%3A%22University+of+Massachusetts+Amherst%22&facet=publication_facet%3A%22Center+for+Economic+Development+Technical+Reports%22&facet=subject_facet%3A%22Zoning%22&facet=publication_year%3A%221991%22\n",
      "http//0.ssbet241.cn/WWW.HG008808.COM/\n",
      "under current40error\n",
      "http//0-network.bepress.com.library.simmons.edu/explore/social-and-behavioral-sciences/political-science/comparative-politics/?facet=discipline%3A%22Military+History%22&facet=subject_facet%3A%22Artificial+intelligence%22\n",
      "http//0-network.bepress.com.library.simmons.edu/explore/social-and-behavioral-sciences/other-social-and-behavioral-sciences/?facet=subject_facet%3A%22Community+mental+health%22\n",
      "http//000407.cn/report/detail.php?id=21885\n",
      "http//0-network.bepress.com.library.simmons.edu/explore/arts-and-humanities/?facet=discipline%3A%22Philosophy%22&facet=publication_facet%3A%22CMC+Faculty+Publications+and+Research%22\n",
      "under current45error\n",
      "under current46error\n",
      "http//0-1.a100.nthosting.ru/law/default.asp?doc=/NPB/238-97\n",
      "http//0.ssbet070.cn/WWW.XPJ6907.COM/\n",
      "under current49error\n",
      "under current50error\n",
      "http//0-network.bepress.com.library.simmons.edu/explore/arts-and-humanities/creative-writing/?facet=download_type%3A%22PDF%22&facet=subject_facet%3A%22Student+Publication%22\n",
      "http//0-network.bepress.com.library.simmons.edu/explore/arts-and-humanities/?facet=discipline%3A%22Fiction%22&facet=institution_title%3A%22Marshall+University%22&facet=publication_year%3A%221974%22&facet=subject_facet%3A%22Short+stories%22\n",
      "http//0-network.bepress.com.library.simmons.edu/explore/arts-and-humanities/philosophy/?facet=discipline%3A%22Education%22&facet=subject_facet%3A%22Home+cooking%22\n",
      "http//0-0ll.com/\n",
      "http//00.auto.sohu.com/d/filter/411600_0_0_0_6_1_2_0_0.html\n",
      "http//0-network.bepress.com.library.simmons.edu/explore/arts-and-humanities/race-ethnicity-and-post-colonial-studies/?facet=subject_facet%3A%22Diaspora%22&facet=download_type%3A%22None%22\n",
      "http//00.auto.sohu.com/d/filter/140400_0_0_0_0_2_0_0_0.html\n",
      "http//00.qhdsfy.com/ssq/dingdan/20200210_3376826.htm\n",
      "http//0.ssbet138.cn/WWW.XPJ80886.COM/\n"
     ]
    }
   ],
   "source": [
    "for i, path in enumerate(paths):\n",
    "    df = sc.textFile(path)\n",
    "    try:\n",
    "        links_json = df.take(49)[48]\n",
    "        json_obj = json.loads(links_json)\n",
    "        links_container = json_obj['Envelope']['Payload-Metadata']['HTTP-Response-Metadata']['HTML-Metadata']['Links']\n",
    "        links_obj = [x['url'] for x in links_container]\n",
    "    \n",
    "        # target \n",
    "        target_url_str = df.take(31)[30]\n",
    "        target_url = target_url_str.split(':')[1:]\n",
    "        target = ''\n",
    "        for x in target_url:\n",
    "            target += x\n",
    "        target = target.strip()\n",
    "    \n",
    "        print(target)\n",
    "    except:\n",
    "        print('under current' + str(i) + 'error')"
   ]
  },
  {
   "cell_type": "code",
   "execution_count": 29,
   "metadata": {},
   "outputs": [],
   "source": [
    "df3 = sc.textFile('s3://commoncrawl/crawl-data/CC-MAIN-2020-10/segments/1581875143455.25/wat/CC-MAIN-20200217235417-20200218025417-00499.warc.wat.gz')"
   ]
  },
  {
   "cell_type": "code",
   "execution_count": 30,
   "metadata": {},
   "outputs": [],
   "source": [
    "links_json2 = df3.take(49)[48]\n",
    "json_obj2 = json.loads(links_json2)\n",
    "links_container2 = json_obj2['Envelope']['Payload-Metadata']['HTTP-Response-Metadata']['HTML-Metadata']['Links']"
   ]
  },
  {
   "cell_type": "code",
   "execution_count": 31,
   "metadata": {},
   "outputs": [
    {
     "data": {
      "text/plain": [
       "'http//0-gate.com/category/anime-catagory/anime-currently-covering/noragami/'"
      ]
     },
     "execution_count": 31,
     "metadata": {},
     "output_type": "execute_result"
    }
   ],
   "source": [
    "target_url_str = df3.take(31)[30]\n",
    "target_url = target_url_str.split(':')[1:]\n",
    "target = ''\n",
    "for x in target_url:\n",
    "    target += x\n",
    "target = target.strip()\n",
    "target"
   ]
  },
  {
   "cell_type": "code",
   "execution_count": 32,
   "metadata": {},
   "outputs": [],
   "source": [
    "from pyspark.sql.types import StructType\n",
    "import pyspark\n",
    "from pyspark.sql.types import StructField\n",
    "\n",
    "from pyspark.sql.types import StringType\n",
    "from pyspark.sql.types import IntegerType"
   ]
  },
  {
   "cell_type": "code",
   "execution_count": 33,
   "metadata": {},
   "outputs": [],
   "source": [
    "sources = [target for _ in range(len(links_obj))]\n",
    "schema = StructType([StructField(\"source\", StringType(), True), StructField(\"target\", StringType(), True)])"
   ]
  },
  {
   "cell_type": "code",
   "execution_count": 34,
   "metadata": {},
   "outputs": [
    {
     "data": {
      "text/plain": [
       "[Row(source='http//0-gate.com/category/anime-catagory/anime-currently-covering/noragami/', target='/moban/ip138/logo.png'),\n",
       " Row(source='http//0-gate.com/category/anime-catagory/anime-currently-covering/noragami/', target='http://0.ssbet138.cn/'),\n",
       " Row(source='http//0-gate.com/category/anime-catagory/anime-currently-covering/noragami/', target='javascript:;'),\n",
       " Row(source='http//0-gate.com/category/anime-catagory/anime-currently-covering/noragami/', target='http://5iqai.ssbet138.cn/'),\n",
       " Row(source='http//0-gate.com/category/anime-catagory/anime-currently-covering/noragami/', target='http://zikba.ssbet138.cn/')]"
      ]
     },
     "execution_count": 34,
     "metadata": {},
     "output_type": "execute_result"
    }
   ],
   "source": [
    "from pyspark.sql import SQLContext\n",
    "sqlContext = SQLContext(sc)\n",
    "\n",
    "t = zip(sources, links_obj)\n",
    "dataframe = sqlContext.createDataFrame(t,schema)\n",
    "\n",
    "\n",
    "dataframe.take(5)\n"
   ]
  },
  {
   "cell_type": "code",
   "execution_count": 35,
   "metadata": {},
   "outputs": [],
   "source": [
    "res2 = dataframe"
   ]
  },
  {
   "cell_type": "markdown",
   "metadata": {},
   "source": [
    "## Extraction Part 2"
   ]
  },
  {
   "cell_type": "code",
   "execution_count": 36,
   "metadata": {},
   "outputs": [
    {
     "name": "stdout",
     "output_type": "stream",
     "text": [
      "0\n",
      "1\n",
      "2\n",
      "3\n",
      "4\n",
      "5\n",
      "6\n",
      "7\n",
      "8\n",
      "9\n",
      "10\n",
      "11\n",
      "12\n",
      "13\n",
      "14\n",
      "under current15error\n",
      "16\n",
      "17\n",
      "18\n",
      "19\n",
      "20\n",
      "under current21error\n",
      "22\n",
      "23\n",
      "24\n",
      "25\n",
      "26\n",
      "27\n",
      "28\n",
      "under current29error\n",
      "30\n",
      "under current31error\n",
      "32\n",
      "33\n",
      "under current34error\n",
      "35\n",
      "36\n",
      "37\n",
      "38\n",
      "39\n",
      "under current40error\n",
      "41\n",
      "42\n",
      "43\n",
      "44\n",
      "under current45error\n",
      "under current46error\n",
      "47\n",
      "48\n",
      "under current49error\n",
      "under current50error\n",
      "51\n",
      "52\n",
      "53\n",
      "54\n",
      "55\n",
      "56\n",
      "57\n",
      "58\n",
      "59\n"
     ]
    }
   ],
   "source": [
    "for i, path in enumerate(paths):\n",
    "    df = sc.textFile(path)\n",
    "    try:\n",
    "        links_json = df.take(49)[48]\n",
    "        json_obj = json.loads(links_json)\n",
    "        links_container = json_obj['Envelope']['Payload-Metadata']['HTTP-Response-Metadata']['HTML-Metadata']['Links']\n",
    "        links_obj = [x['url'] for x in links_container]\n",
    "    \n",
    "        # target \n",
    "        target_url_str = df.take(31)[30]\n",
    "        target_url = target_url_str.split(':')[1:]\n",
    "        target = ''\n",
    "        for x in target_url:\n",
    "            target += x\n",
    "        target = target.strip()\n",
    "    \n",
    "        # df\n",
    "        sources = [target for _ in range(len(links_obj))]\n",
    "        schema = StructType([StructField(\"source\", StringType(), True), StructField(\"target\", StringType(), True)])\n",
    "    \n",
    "        t = zip(sources, links_obj)\n",
    "        dataframe = sqlContext.createDataFrame(t,schema)\n",
    "        #dataframe.show(5)\n",
    "        res2 = res2.unionByName(dataframe)\n",
    "        print(i)\n",
    "    except:\n",
    "        print('under current' + str(i) + 'error')"
   ]
  },
  {
   "cell_type": "code",
   "execution_count": 37,
   "metadata": {},
   "outputs": [
    {
     "name": "stdout",
     "output_type": "stream",
     "text": [
      "+--------------------+\n",
      "|              source|\n",
      "+--------------------+\n",
      "|http//0-network.b...|\n",
      "|http//00.auto.soh...|\n",
      "|http//0.ssbet138....|\n",
      "|http//000.qqw55.c...|\n",
      "|http//0-network.b...|\n",
      "|http//000407.cn/r...|\n",
      "|http//0-network.b...|\n",
      "|http//0-network.b...|\n",
      "|http//0-network.b...|\n",
      "|http//0-network.b...|\n",
      "|http//00.auto.soh...|\n",
      "|http//0-network.b...|\n",
      "|http//000019.cn/r...|\n",
      "|http//0-network.b...|\n",
      "|http//0-network.b...|\n",
      "|http//0-network.b...|\n",
      "|http//0-gate.com/...|\n",
      "|http//0-network.b...|\n",
      "|http//0-euro-hand...|\n",
      "|http//00.auto.soh...|\n",
      "+--------------------+\n",
      "only showing top 20 rows\n",
      "\n"
     ]
    }
   ],
   "source": [
    "res2.select('source').distinct().show()"
   ]
  },
  {
   "cell_type": "code",
   "execution_count": 39,
   "metadata": {},
   "outputs": [
    {
     "data": {
      "text/plain": [
       "51"
      ]
     },
     "execution_count": 39,
     "metadata": {},
     "output_type": "execute_result"
    }
   ],
   "source": [
    "res2.select('source').distinct().count()"
   ]
  },
  {
   "cell_type": "code",
   "execution_count": 40,
   "metadata": {},
   "outputs": [],
   "source": [
    "paths = []\n",
    "for i in range(100):\n",
    "    if i < 10:\n",
    "        path = path = 's3://commoncrawl/crawl-data/CC-MAIN-2020-10/segments/1581875143455.25/wat/CC-MAIN-20200217235417-20200218025417-0040' + str(i) +'.warc.wat.gz'\n",
    "    else:\n",
    "        path = 's3://commoncrawl/crawl-data/CC-MAIN-2020-10/segments/1581875143455.25/wat/CC-MAIN-20200217235417-20200218025417-004' + str(i) +'.warc.wat.gz'\n",
    "    paths.append(path)"
   ]
  },
  {
   "cell_type": "code",
   "execution_count": 41,
   "metadata": {},
   "outputs": [
    {
     "name": "stdout",
     "output_type": "stream",
     "text": [
      "0\n",
      "1\n",
      "2\n",
      "3\n",
      "under current4error\n",
      "5\n",
      "under current6error\n",
      "7\n",
      "8\n",
      "under current9error\n",
      "10\n",
      "under current11error\n",
      "12\n",
      "13\n",
      "14\n",
      "under current15error\n",
      "16\n",
      "17\n",
      "18\n",
      "under current19error\n",
      "20\n",
      "under current21error\n",
      "22\n",
      "23\n",
      "24\n",
      "under current25error\n",
      "26\n",
      "27\n",
      "28\n",
      "29\n",
      "30\n",
      "31\n",
      "32\n",
      "under current33error\n",
      "34\n",
      "35\n",
      "under current36error\n",
      "37\n",
      "38\n",
      "39\n",
      "40\n",
      "under current41error\n",
      "42\n",
      "43\n",
      "44\n",
      "45\n",
      "under current46error\n",
      "47\n",
      "48\n",
      "under current49error\n",
      "50\n",
      "51\n",
      "52\n",
      "53\n",
      "54\n",
      "55\n",
      "56\n",
      "57\n",
      "58\n",
      "59\n",
      "60\n",
      "61\n",
      "62\n",
      "63\n",
      "under current64error\n",
      "65\n",
      "under current66error\n",
      "67\n",
      "under current68error\n",
      "69\n",
      "70\n",
      "71\n",
      "under current72error\n",
      "under current73error\n",
      "74\n",
      "75\n",
      "76\n",
      "under current77error\n",
      "78\n",
      "79\n",
      "under current80error\n",
      "81\n",
      "under current82error\n",
      "under current83error\n",
      "84\n",
      "under current85error\n",
      "86\n",
      "87\n",
      "88\n",
      "89\n",
      "under current90error\n",
      "91\n",
      "under current92error\n",
      "93\n",
      "94\n",
      "95\n",
      "under current96error\n",
      "97\n",
      "98\n",
      "under current99error\n"
     ]
    }
   ],
   "source": [
    "for i, path in enumerate(paths):\n",
    "    df = sc.textFile(path)\n",
    "    try:\n",
    "        links_json = df.take(49)[48]\n",
    "        json_obj = json.loads(links_json)\n",
    "        links_container = json_obj['Envelope']['Payload-Metadata']['HTTP-Response-Metadata']['HTML-Metadata']['Links']\n",
    "        links_obj = [x['url'] for x in links_container]\n",
    "    \n",
    "        # target \n",
    "        target_url_str = df2.take(31)[30]\n",
    "        target_url = target_url_str.split(':')[1:]\n",
    "        target = ''\n",
    "        for x in target_url:\n",
    "            target += x\n",
    "        target = target.strip()\n",
    "    \n",
    "        # df\n",
    "        sources = [target for _ in range(len(links_obj))]\n",
    "        schema = StructType([StructField(\"source\", StringType(), True), StructField(\"target\", StringType(), True)])\n",
    "    \n",
    "        t = zip(sources, links_obj)\n",
    "        dataframe = sqlContext.createDataFrame(t,schema)\n",
    "        #dataframe.show(5)\n",
    "        res2 = res2.unionByName(dataframe)\n",
    "        print(i)\n",
    "    except:\n",
    "        print('under current' + str(i) + 'error')"
   ]
  },
  {
   "cell_type": "code",
   "execution_count": 42,
   "metadata": {},
   "outputs": [
    {
     "name": "stdout",
     "output_type": "stream",
     "text": [
      "+--------------------+\n",
      "|              source|\n",
      "+--------------------+\n",
      "|http//0-network.b...|\n",
      "|http//00.auto.soh...|\n",
      "|http//0.ssbet138....|\n",
      "|http//000.qqw55.c...|\n",
      "|http//0-network.b...|\n",
      "|http//000407.cn/r...|\n",
      "|http//0-network.b...|\n",
      "|http//0-network.b...|\n",
      "|http//0-network.b...|\n",
      "|http//0-network.b...|\n",
      "|http//00.auto.soh...|\n",
      "|http//0-network.b...|\n",
      "|http//000019.cn/r...|\n",
      "|http//0-network.b...|\n",
      "|http//0-network.b...|\n",
      "|http//0-network.b...|\n",
      "|http//0-gate.com/...|\n",
      "|http//0-network.b...|\n",
      "|http//0-euro-hand...|\n",
      "|http//00.auto.soh...|\n",
      "+--------------------+\n",
      "only showing top 20 rows\n",
      "\n"
     ]
    }
   ],
   "source": [
    "res2.select('source').distinct().show()"
   ]
  },
  {
   "cell_type": "code",
   "execution_count": 44,
   "metadata": {},
   "outputs": [
    {
     "data": {
      "text/plain": [
       "31566"
      ]
     },
     "execution_count": 44,
     "metadata": {},
     "output_type": "execute_result"
    }
   ],
   "source": [
    "res2.count()"
   ]
  },
  {
   "cell_type": "code",
   "execution_count": 43,
   "metadata": {},
   "outputs": [
    {
     "data": {
      "text/plain": [
       "51"
      ]
     },
     "execution_count": 43,
     "metadata": {},
     "output_type": "execute_result"
    }
   ],
   "source": [
    "res2.select('source').distinct().count()"
   ]
  },
  {
   "cell_type": "markdown",
   "metadata": {},
   "source": [
    "# Write Scraped Data to S3"
   ]
  },
  {
   "cell_type": "code",
   "execution_count": 45,
   "metadata": {},
   "outputs": [],
   "source": [
    "\n",
    "res2.write.parquet(\"s3://aws-logs-780494741284-us-east-1/dataset/project_graph_data1\",mode=\"overwrite\")"
   ]
  }
 ],
 "metadata": {
  "kernelspec": {
   "display_name": "Python 3",
   "language": "python",
   "name": "python3"
  },
  "language_info": {
   "codemirror_mode": {
    "name": "ipython",
    "version": 3
   },
   "file_extension": ".py",
   "mimetype": "text/x-python",
   "name": "python",
   "nbconvert_exporter": "python",
   "pygments_lexer": "ipython3",
   "version": "3.7.4"
  }
 },
 "nbformat": 4,
 "nbformat_minor": 4
}
